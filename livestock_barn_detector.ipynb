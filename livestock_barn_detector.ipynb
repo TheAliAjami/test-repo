{
  "nbformat": 4,
  "nbformat_minor": 0,
  "metadata": {
    "colab": {
      "name": "livestock-barn-detector.ipynb",
      "version": "0.3.2",
      "provenance": [],
      "collapsed_sections": [],
      "include_colab_link": true
    },
    "kernelspec": {
      "name": "python3",
      "display_name": "Python 3"
    }
  },
  "cells": [
    {
      "cell_type": "markdown",
      "metadata": {
        "id": "view-in-github",
        "colab_type": "text"
      },
      "source": [
        "<a href=\"https://colab.research.google.com/github/TheAliAjami/test-repo/blob/master/livestock_barn_detector.ipynb\" target=\"_parent\"><img src=\"https://colab.research.google.com/assets/colab-badge.svg\" alt=\"Open In Colab\"/></a>"
      ]
    },
    {
      "cell_type": "code",
      "metadata": {
        "id": "j-aPOmiIl-fj",
        "colab_type": "code",
        "colab": {}
      },
      "source": [
        "import os\n",
        "from pydrive.auth import GoogleAuth\n",
        "from pydrive.drive import GoogleDrive\n",
        "from google.colab import auth\n",
        "from oauth2client.client import GoogleCredentials"
      ],
      "execution_count": 0,
      "outputs": []
    },
    {
      "cell_type": "code",
      "metadata": {
        "id": "vLZ43dM393G3",
        "colab_type": "code",
        "colab": {}
      },
      "source": [
        "import shutil\n",
        "#shutil.rmtree('train')"
      ],
      "execution_count": 0,
      "outputs": []
    },
    {
      "cell_type": "markdown",
      "metadata": {
        "id": "hGZxqS0cqcRX",
        "colab_type": "text"
      },
      "source": [
        "# Upload and unzip file"
      ]
    },
    {
      "cell_type": "code",
      "metadata": {
        "id": "d-NEpRCnn52B",
        "colab_type": "code",
        "outputId": "2fdd4fdc-1134-492a-cced-ac6b2b2088a9",
        "colab": {
          "base_uri": "https://localhost:8080/",
          "height": 1000
        }
      },
      "source": [
        "# Replace the id and filename in the below codes\n",
        "!unzip train.zip"
      ],
      "execution_count": 34,
      "outputs": [
        {
          "output_type": "stream",
          "text": [
            "Archive:  train.zip\n",
            "  inflating: train.csv               \n",
            "  inflating: train/001-0.jpg         \n",
            "  inflating: train/002-1.jpg         \n",
            "  inflating: train/003-1.jpg         \n",
            "  inflating: train/004-0.jpg         \n",
            "  inflating: train/005-1.jpg         \n",
            "  inflating: train/006-1.jpg         \n",
            "  inflating: train/007-0.jpg         \n",
            "  inflating: train/008-0.jpg         \n",
            "  inflating: train/009-1.jpg         \n",
            "  inflating: train/010-0.jpg         \n",
            "  inflating: train/011-0.jpg         \n",
            "  inflating: train/012-0.jpg         \n",
            "  inflating: train/013-0.jpg         \n",
            "  inflating: train/014-0.jpg         \n",
            "  inflating: train/015-1.jpg         \n",
            "  inflating: train/016-0.jpg         \n",
            "  inflating: train/017-1.jpg         \n",
            "  inflating: train/018-0.jpg         \n",
            "  inflating: train/019-1.jpg         \n",
            "  inflating: train/020-0.jpg         \n",
            "  inflating: train/021-1.jpg         \n",
            "  inflating: train/022-1.jpg         \n",
            "  inflating: train/023-0.jpg         \n",
            "  inflating: train/024-0.jpg         \n",
            "  inflating: train/025-0.jpg         \n",
            "  inflating: train/026-1.jpg         \n",
            "  inflating: train/027-1.jpg         \n",
            "  inflating: train/028-0.jpg         \n",
            "  inflating: train/029-0.jpg         \n",
            "  inflating: train/030-0.jpg         \n",
            "  inflating: train/031-0.jpg         \n",
            "  inflating: train/032-1.jpg         \n",
            "  inflating: train/033-0.jpg         \n",
            "  inflating: train/034-0.jpg         \n",
            "  inflating: train/035-0.jpg         \n",
            "  inflating: train/036-0.jpg         \n",
            "  inflating: train/037-0.jpg         \n",
            "  inflating: train/038-0.jpg         \n",
            "  inflating: train/039-0.jpg         \n",
            "  inflating: train/040-1.jpg         \n",
            "  inflating: train/041-0.jpg         \n",
            "  inflating: train/042-1.jpg         \n",
            "  inflating: train/043-1.jpg         \n",
            "  inflating: train/044-0.jpg         \n",
            "  inflating: train/045-0.jpg         \n",
            "  inflating: train/046-1.jpg         \n",
            "  inflating: train/047-0.jpg         \n",
            "  inflating: train/048-1.jpg         \n",
            "  inflating: train/049-1.jpg         \n",
            "  inflating: train/050-0.jpg         \n",
            "  inflating: train/051-1.jpg         \n",
            "  inflating: train/052-1.jpg         \n",
            "  inflating: train/053-0.jpg         \n",
            "  inflating: train/054-1.jpg         \n",
            "  inflating: train/055-1.jpg         \n",
            "  inflating: train/056-1.jpg         \n",
            "  inflating: train/057-0.jpg         \n",
            "  inflating: train/058-1.jpg         \n",
            "  inflating: train/059-1.jpg         \n",
            "  inflating: train/060-1.jpg         \n",
            "  inflating: train/061-0.jpg         \n",
            "  inflating: train/062-0.jpg         \n",
            "  inflating: train/063-0.jpg         \n",
            "  inflating: train/064-0.jpg         \n",
            "  inflating: train/065-1.jpg         \n",
            "  inflating: train/066-1.jpg         \n",
            "  inflating: train/067-1.jpg         \n",
            "  inflating: train/068-0.jpg         \n",
            "  inflating: train/069-0.jpg         \n",
            "  inflating: train/070-0.jpg         \n",
            "  inflating: train/071-1.jpg         \n",
            "  inflating: train/072-0.jpg         \n",
            "  inflating: train/073-1.jpg         \n",
            "  inflating: train/074-1.jpg         \n",
            "  inflating: train/075-0.jpg         \n",
            "  inflating: train/076-0.jpg         \n",
            "  inflating: train/077-0.jpg         \n",
            "  inflating: train/078-1.jpg         \n",
            "  inflating: train/079-0.jpg         \n",
            "  inflating: train/080-1.jpg         \n",
            "  inflating: train/081-1.jpg         \n",
            "  inflating: train/082-0.jpg         \n",
            "  inflating: train/083-1.jpg         \n",
            "  inflating: train/084-1.jpg         \n",
            "  inflating: train/085-0.jpg         \n",
            "  inflating: train/086-1.jpg         \n",
            "  inflating: train/087-0.jpg         \n",
            "  inflating: train/088-1.jpg         \n",
            "  inflating: train/089-0.jpg         \n",
            "  inflating: train/090-1.jpg         \n",
            "  inflating: train/091-0.jpg         \n",
            "  inflating: train/092-1.jpg         \n",
            "  inflating: train/093-1.jpg         \n",
            "  inflating: train/094-1.jpg         \n",
            "  inflating: train/095-1.jpg         \n",
            "  inflating: train/096-0.jpg         \n",
            "  inflating: train/097-0.jpg         \n",
            "  inflating: train/098-0.jpg         \n",
            "  inflating: train/099-1.jpg         \n",
            "  inflating: train/100-1.jpg         \n",
            "  inflating: train/101-1.jpg         \n",
            "  inflating: train/102-1.jpg         \n",
            "  inflating: train/103-0.jpg         \n",
            "  inflating: train/104-1.jpg         \n",
            "  inflating: train/105-0.jpg         \n",
            "  inflating: train/106-0.jpg         \n",
            "  inflating: train/107-0.jpg         \n",
            "  inflating: train/108-1.jpg         \n",
            "  inflating: train/109-1.jpg         \n",
            "  inflating: train/110-0.jpg         \n",
            "  inflating: train/111-1.jpg         \n",
            "  inflating: train/112-1.jpg         \n",
            "  inflating: train/113-1.jpg         \n",
            "  inflating: train/114-0.jpg         \n",
            "  inflating: train/115-1.jpg         \n",
            "  inflating: train/116-0.jpg         \n",
            "  inflating: train/117-1.jpg         \n",
            "  inflating: train/118-0.jpg         \n",
            "  inflating: train/119-0.jpg         \n",
            "  inflating: train/120-0.jpg         \n",
            "  inflating: train/121-1.jpg         \n",
            "  inflating: train/122-0.jpg         \n",
            "  inflating: train/123-1.jpg         \n",
            "  inflating: train/124-0.jpg         \n",
            "  inflating: train/125-1.jpg         \n",
            "  inflating: train/126-0.jpg         \n",
            "  inflating: train/127-1.jpg         \n",
            "  inflating: train/128-0.jpg         \n",
            "  inflating: train/129-1.jpg         \n",
            "  inflating: train/130-0.jpg         \n",
            "  inflating: train/131-0.jpg         \n",
            "  inflating: train/132-0.jpg         \n",
            "  inflating: train/133-0.jpg         \n",
            "  inflating: train/134-1.jpg         \n",
            "  inflating: train/135-0.jpg         \n",
            "  inflating: train/136-1.jpg         \n",
            "  inflating: train/137-0.jpg         \n",
            "  inflating: train/138-1.jpg         \n",
            "  inflating: train/139-1.jpg         \n",
            "  inflating: train/140-0.jpg         \n",
            "  inflating: train/141-1.jpg         \n",
            "  inflating: train/142-1.jpg         \n",
            "  inflating: train/143-1.jpg         \n",
            "  inflating: train/144-1.jpg         \n",
            "  inflating: train/145-1.jpg         \n",
            "  inflating: train/146-1.jpg         \n",
            "  inflating: train/147-1.jpg         \n",
            "  inflating: train/148-0.jpg         \n",
            "  inflating: train/149-0.jpg         \n",
            "  inflating: train/150-1.jpg         \n",
            "  inflating: train/151-0.jpg         \n",
            "  inflating: train/152-0.jpg         \n",
            "  inflating: train/153-1.jpg         \n",
            "  inflating: train/154-0.jpg         \n",
            "  inflating: train/155-1.jpg         \n",
            "  inflating: train/156-1.jpg         \n",
            "  inflating: train/157-0.jpg         \n",
            "  inflating: train/158-1.jpg         \n",
            "  inflating: train/159-1.jpg         \n",
            "  inflating: train/160-1.jpg         \n",
            "  inflating: train/161-0.jpg         \n",
            "  inflating: train/162-1.jpg         \n",
            "  inflating: train/163-1.jpg         \n",
            "  inflating: train/164-0.jpg         \n",
            "  inflating: train/165-0.jpg         \n",
            "  inflating: train/166-1.jpg         \n",
            "  inflating: train/167-0.jpg         \n",
            "  inflating: train/168-0.jpg         \n",
            "  inflating: train/169-1.jpg         \n",
            "  inflating: train/170-0.jpg         \n",
            "  inflating: train/171-1.jpg         \n",
            "  inflating: train/172-1.jpg         \n",
            "  inflating: train/173-0.jpg         \n",
            "  inflating: train/174-1.jpg         \n",
            "  inflating: train/175-0.jpg         \n",
            "  inflating: train/176-1.jpg         \n",
            "  inflating: train/177-1.jpg         \n",
            "  inflating: train/178-0.jpg         \n",
            "  inflating: train/179-1.jpg         \n",
            "  inflating: train/180-0.jpg         \n",
            "  inflating: train/181-1.jpg         \n",
            "  inflating: train/182-0.jpg         \n",
            "  inflating: train/183-0.jpg         \n",
            "  inflating: train/184-1.jpg         \n",
            "  inflating: train/185-0.jpg         \n",
            "  inflating: train/186-0.jpg         \n",
            "  inflating: train/187-1.jpg         \n",
            "  inflating: train/188-1.jpg         \n",
            "  inflating: train/189-0.jpg         \n",
            "  inflating: train/190-1.jpg         \n",
            "  inflating: train/191-1.jpg         \n",
            "  inflating: train/192-0.jpg         \n",
            "  inflating: train/193-1.jpg         \n",
            "  inflating: train/194-0.jpg         \n",
            "  inflating: train/195-0.jpg         \n",
            "  inflating: train/196-1.jpg         \n",
            "  inflating: train/197-1.jpg         \n",
            "  inflating: train/198-0.jpg         \n",
            "  inflating: train/199-1.jpg         \n",
            "  inflating: train/200-1.jpg         \n",
            "  inflating: train/201-0.jpg         \n",
            "  inflating: train/202-0.jpg         \n",
            "  inflating: train/203-0.jpg         \n",
            "  inflating: train/204-0.jpg         \n",
            "  inflating: train/205-0.jpg         \n",
            "  inflating: train/206-0.jpg         \n",
            "  inflating: train/207-1.jpg         \n",
            "  inflating: train/208-1.jpg         \n",
            "  inflating: train/209-1.jpg         \n",
            "  inflating: train/210-1.jpg         \n",
            "  inflating: train/211-0.jpg         \n",
            "  inflating: train/212-0.jpg         \n",
            "  inflating: train/213-1.jpg         \n",
            "  inflating: train/214-1.jpg         \n",
            "  inflating: train/215-0.jpg         \n",
            "  inflating: train/216-0.jpg         \n",
            "  inflating: train/217-1.jpg         \n",
            "  inflating: train/218-0.jpg         \n",
            "  inflating: train/219-1.jpg         \n",
            "  inflating: train/220-1.jpg         \n",
            "  inflating: train/221-1.jpg         \n",
            "  inflating: train/222-0.jpg         \n",
            "  inflating: train/223-1.jpg         \n",
            "  inflating: train/224-0.jpg         \n",
            "  inflating: train/225-0.jpg         \n",
            "  inflating: train/226-1.jpg         \n",
            "  inflating: train/227-1.jpg         \n",
            "  inflating: train/228-0.jpg         \n",
            "  inflating: train/229-0.jpg         \n",
            "  inflating: train/230-1.jpg         \n",
            "  inflating: train/231-0.jpg         \n",
            "  inflating: train/232-1.jpg         \n",
            "  inflating: train/233-0.jpg         \n",
            "  inflating: train/234-1.jpg         \n",
            "  inflating: train/235-0.jpg         \n",
            "  inflating: train/236-1.jpg         \n"
          ],
          "name": "stdout"
        }
      ]
    },
    {
      "cell_type": "code",
      "metadata": {
        "id": "Ig8M9AYToJwT",
        "colab_type": "code",
        "colab": {}
      },
      "source": [
        "import keras\n",
        "from keras.models import Sequential\n",
        "from keras.layers import Dense, Dropout, Flatten\n",
        "from keras.layers import Conv3D, MaxPooling2D\n",
        "from keras.utils import to_categorical\n",
        "from keras.preprocessing import image\n",
        "import numpy as np\n",
        "import pandas as pd\n",
        "import matplotlib.pyplot as plt\n",
        "from sklearn.model_selection import train_test_split\n",
        "from keras.utils import to_categorical\n",
        "from tqdm import tqdm"
      ],
      "execution_count": 0,
      "outputs": []
    },
    {
      "cell_type": "code",
      "metadata": {
        "id": "oMkC3l04ph6G",
        "colab_type": "code",
        "colab": {}
      },
      "source": [
        "train = pd.read_csv('train.csv')\n"
      ],
      "execution_count": 0,
      "outputs": []
    },
    {
      "cell_type": "code",
      "metadata": {
        "id": "hzvfdfm1pngU",
        "colab_type": "code",
        "outputId": "c4a05b60-9d46-41bb-cf4a-822cd55b0f6f",
        "colab": {
          "base_uri": "https://localhost:8080/",
          "height": 35
        }
      },
      "source": [
        "# We have grayscale images, so while loading the images we will keep grayscale=True, if you have RGB images, you should set grayscale as False\n",
        "train_image = []\n",
        "for i in tqdm(range(train.shape[0])):\n",
        "    img = image.load_img('train/'+train['id'][i], target_size=(256,256))\n",
        "    img = image.img_to_array(img)\n",
        "    img = img/255\n",
        "    train_image.append(img)\n",
        "X = np.array(train_image)"
      ],
      "execution_count": 68,
      "outputs": [
        {
          "output_type": "stream",
          "text": [
            "100%|██████████| 236/236 [00:00<00:00, 435.48it/s]\n"
          ],
          "name": "stderr"
        }
      ]
    },
    {
      "cell_type": "code",
      "metadata": {
        "id": "d9a5VImjuWCo",
        "colab_type": "code",
        "colab": {}
      },
      "source": [
        "y=train['label'].values\n",
        "y = to_categorical(y)"
      ],
      "execution_count": 0,
      "outputs": []
    },
    {
      "cell_type": "code",
      "metadata": {
        "id": "8s_Scbk7z4mX",
        "colab_type": "code",
        "colab": {}
      },
      "source": [
        "X_train, X_test, y_train, y_test = train_test_split(X, y, random_state=42, test_size=0.2)\n"
      ],
      "execution_count": 0,
      "outputs": []
    },
    {
      "cell_type": "code",
      "metadata": {
        "id": "YKPY50Pgz8t_",
        "colab_type": "code",
        "colab": {}
      },
      "source": [
        "model = Sequential()\n",
        "model.add(Conv2D(32, kernel_size=(3, 3),activation='relu',input_shape=(256,256,3)))\n",
        "model.add(MaxPooling2D(pool_size=(2, 2)))\n",
        "model.add(Conv2D(64, (3, 3), activation='relu'))\n",
        "model.add(MaxPooling2D(pool_size=(2, 2)))\n",
        "model.add(Conv2D(128, (3, 3), activation='relu'))\n",
        "model.add(MaxPooling2D(pool_size=(2, 2)))\n",
        "model.add(Conv2D(128, (3, 3), activation='relu'))\n",
        "model.add(MaxPooling2D(pool_size=(2, 2)))\n",
        "model.add(Flatten())\n",
        "model.add(Dropout(0.25))\n",
        "model.add(Dense(512, activation='relu'))\n",
        "model.add(Dense(2, activation='sigmoid'))"
      ],
      "execution_count": 0,
      "outputs": []
    },
    {
      "cell_type": "code",
      "metadata": {
        "id": "Qh6qE3wW0-Zk",
        "colab_type": "code",
        "colab": {}
      },
      "source": [
        "model.compile(loss='categorical_crossentropy',optimizer='Adam',metrics=['accuracy'])\n"
      ],
      "execution_count": 0,
      "outputs": []
    },
    {
      "cell_type": "code",
      "metadata": {
        "id": "diVEuS371LKM",
        "colab_type": "code",
        "outputId": "196973f1-ef09-4992-ad3c-3abdf5b2497f",
        "colab": {
          "base_uri": "https://localhost:8080/",
          "height": 1000
        }
      },
      "source": [
        "Model = model.fit(X_train, y_train, epochs=30, validation_data=(X_test, y_test))\n"
      ],
      "execution_count": 73,
      "outputs": [
        {
          "output_type": "stream",
          "text": [
            "Train on 188 samples, validate on 48 samples\n",
            "Epoch 1/30\n",
            "188/188 [==============================] - 29s 154ms/step - loss: 1.0280 - acc: 0.5372 - val_loss: 0.6923 - val_acc: 0.5208\n",
            "Epoch 2/30\n",
            "188/188 [==============================] - 28s 150ms/step - loss: 0.6922 - acc: 0.5426 - val_loss: 0.6897 - val_acc: 0.4792\n",
            "Epoch 3/30\n",
            "188/188 [==============================] - 28s 148ms/step - loss: 0.6870 - acc: 0.5053 - val_loss: 0.6819 - val_acc: 0.4792\n",
            "Epoch 4/30\n",
            "188/188 [==============================] - 28s 148ms/step - loss: 0.6677 - acc: 0.6170 - val_loss: 0.6492 - val_acc: 0.6458\n",
            "Epoch 5/30\n",
            "188/188 [==============================] - 28s 149ms/step - loss: 0.6278 - acc: 0.6489 - val_loss: 0.6708 - val_acc: 0.6250\n",
            "Epoch 6/30\n",
            "188/188 [==============================] - 28s 150ms/step - loss: 0.6605 - acc: 0.6117 - val_loss: 0.6150 - val_acc: 0.5833\n",
            "Epoch 7/30\n",
            "188/188 [==============================] - 28s 149ms/step - loss: 0.5569 - acc: 0.7234 - val_loss: 0.5725 - val_acc: 0.7292\n",
            "Epoch 8/30\n",
            "188/188 [==============================] - 28s 149ms/step - loss: 0.4838 - acc: 0.7606 - val_loss: 0.5461 - val_acc: 0.7708\n",
            "Epoch 9/30\n",
            "188/188 [==============================] - 28s 149ms/step - loss: 0.4215 - acc: 0.8191 - val_loss: 0.4853 - val_acc: 0.7708\n",
            "Epoch 10/30\n",
            "188/188 [==============================] - 28s 149ms/step - loss: 0.4036 - acc: 0.8670 - val_loss: 0.5870 - val_acc: 0.7708\n",
            "Epoch 11/30\n",
            "188/188 [==============================] - 28s 148ms/step - loss: 0.3406 - acc: 0.8883 - val_loss: 0.5204 - val_acc: 0.8125\n",
            "Epoch 12/30\n",
            "188/188 [==============================] - 28s 148ms/step - loss: 0.2230 - acc: 0.9149 - val_loss: 0.5819 - val_acc: 0.8542\n",
            "Epoch 13/30\n",
            "188/188 [==============================] - 28s 149ms/step - loss: 0.1506 - acc: 0.9202 - val_loss: 0.5292 - val_acc: 0.8542\n",
            "Epoch 14/30\n",
            "188/188 [==============================] - 28s 148ms/step - loss: 0.1448 - acc: 0.9521 - val_loss: 0.4202 - val_acc: 0.8542\n",
            "Epoch 15/30\n",
            "188/188 [==============================] - 28s 148ms/step - loss: 0.0969 - acc: 0.9681 - val_loss: 0.7891 - val_acc: 0.8333\n",
            "Epoch 16/30\n",
            "188/188 [==============================] - 28s 148ms/step - loss: 0.0947 - acc: 0.9734 - val_loss: 0.3360 - val_acc: 0.9375\n",
            "Epoch 17/30\n",
            "188/188 [==============================] - 28s 150ms/step - loss: 0.1006 - acc: 0.9734 - val_loss: 0.4757 - val_acc: 0.8958\n",
            "Epoch 18/30\n",
            "188/188 [==============================] - 28s 148ms/step - loss: 0.1023 - acc: 0.9681 - val_loss: 0.6002 - val_acc: 0.7917\n",
            "Epoch 19/30\n",
            "188/188 [==============================] - 28s 148ms/step - loss: 0.0346 - acc: 0.9947 - val_loss: nan - val_acc: 0.8958\n",
            "Epoch 20/30\n",
            "188/188 [==============================] - 28s 149ms/step - loss: 0.0391 - acc: 0.9894 - val_loss: 0.9137 - val_acc: 0.8125\n",
            "Epoch 21/30\n",
            "188/188 [==============================] - 28s 148ms/step - loss: 0.0319 - acc: 0.9894 - val_loss: 0.6424 - val_acc: 0.9583\n",
            "Epoch 22/30\n",
            "188/188 [==============================] - 28s 148ms/step - loss: 0.0187 - acc: 0.9947 - val_loss: 0.4306 - val_acc: 0.9167\n",
            "Epoch 23/30\n",
            "188/188 [==============================] - 28s 148ms/step - loss: 0.0144 - acc: 1.0000 - val_loss: 0.3865 - val_acc: 0.8750\n",
            "Epoch 24/30\n",
            "188/188 [==============================] - 28s 148ms/step - loss: nan - acc: 0.9468 - val_loss: nan - val_acc: 0.5208\n",
            "Epoch 25/30\n",
            "188/188 [==============================] - 27s 145ms/step - loss: nan - acc: 0.4947 - val_loss: nan - val_acc: 0.5208\n",
            "Epoch 26/30\n",
            "188/188 [==============================] - 27s 145ms/step - loss: nan - acc: 0.4947 - val_loss: nan - val_acc: 0.5208\n",
            "Epoch 27/30\n",
            "188/188 [==============================] - 27s 145ms/step - loss: nan - acc: 0.4947 - val_loss: nan - val_acc: 0.5208\n",
            "Epoch 28/30\n",
            "188/188 [==============================] - 27s 146ms/step - loss: nan - acc: 0.4947 - val_loss: nan - val_acc: 0.5208\n",
            "Epoch 29/30\n",
            "188/188 [==============================] - 27s 145ms/step - loss: nan - acc: 0.4947 - val_loss: nan - val_acc: 0.5208\n",
            "Epoch 30/30\n",
            "188/188 [==============================] - 27s 146ms/step - loss: nan - acc: 0.4947 - val_loss: nan - val_acc: 0.5208\n"
          ],
          "name": "stdout"
        }
      ]
    },
    {
      "cell_type": "code",
      "metadata": {
        "id": "PuyVq16UaYnl",
        "colab_type": "code",
        "colab": {
          "base_uri": "https://localhost:8080/",
          "height": 545
        },
        "outputId": "48baf6c1-ac8f-4d6b-d1c6-d7f4f49985a1"
      },
      "source": [
        "acc = Model.history['acc']\n",
        "val_acc = Model.history['val_acc']\n",
        "loss = Model.history['loss']\n",
        "val_loss = Model.history['val_loss']\n",
        "\n",
        "epochs = range(1, len(acc) + 1)\n",
        "\n",
        "#Train and validation accuracy\n",
        "plt.plot(epochs, acc, 'b', label='Training accurarcy')\n",
        "plt.plot(epochs, val_acc, 'r', label='Validation accurarcy')\n",
        "plt.title('Training and Validation accurarcy')\n",
        "plt.legend()\n",
        "\n",
        "plt.figure()\n",
        "#Train and validation loss\n",
        "plt.plot(epochs, loss, 'b', label='Training loss')\n",
        "plt.plot(epochs, val_loss, 'r', label='Validation loss')\n",
        "plt.title('Training and Validation loss')\n",
        "plt.legend()\n",
        "\n",
        "plt.show()"
      ],
      "execution_count": 74,
      "outputs": [
        {
          "output_type": "display_data",
          "data": {
            "image/png": "[encoded data removed]",
            "text/plain": [
              "<Figure size 432x288 with 1 Axes>"
            ]
          },
          "metadata": {
            "tags": []
          }
        },
        {
          "output_type": "display_data",
          "data": {
            "image/png": "[encoded data removed]",
            "text/plain": [
              "<Figure size 432x288 with 1 Axes>"
            ]
          },
          "metadata": {
            "tags": []
          }
        }
      ]
    },
    {
      "cell_type": "code",
      "metadata": {
        "id": "0e-jjzDCYspi",
        "colab_type": "code",
        "colab": {
          "base_uri": "https://localhost:8080/",
          "height": 235
        },
        "outputId": "58cc5fba-9cd8-4ab7-d6b9-772e3ce25f64"
      },
      "source": [
        "acc = history.history['acc']\n",
        "val_acc = history.history['val_acc']\n",
        "loss = history.history['loss']\n",
        "val_loss = history.history['val_loss']\n",
        "\n",
        "epochs = range(1, len(acc) + 1)\n",
        "\n",
        "#Train and validation accuracy\n",
        "plt.plot(epochs, acc, 'b', label='Training accurarcy')\n",
        "plt.plot(epochs, val_acc, 'r', label='Validation accurarcy')\n",
        "plt.title('Training and Validation accurarcy')\n",
        "plt.legend()\n",
        "\n",
        "plt.figure()\n",
        "#Train and validation loss\n",
        "plt.plot(epochs, loss, 'b', label='Training loss')\n",
        "plt.plot(epochs, val_loss, 'r', label='Validation loss')\n",
        "plt.title('Training and Validation loss')\n",
        "plt.legend()\n",
        "\n",
        "plt.show()"
      ],
      "execution_count": 75,
      "outputs": [
        {
          "output_type": "error",
          "ename": "NameError",
          "evalue": "ignored",
          "traceback": [
            "\u001b[0;31m---------------------------------------------------------------------------\u001b[0m",
            "\u001b[0;31mNameError\u001b[0m                                 Traceback (most recent call last)",
            "\u001b[0;32m<ipython-input-75-2291b43b029b>\u001b[0m in \u001b[0;36m<module>\u001b[0;34m()\u001b[0m\n\u001b[0;32m----> 1\u001b[0;31m \u001b[0macc\u001b[0m \u001b[0;34m=\u001b[0m \u001b[0mhistory\u001b[0m\u001b[0;34m.\u001b[0m\u001b[0mhistory\u001b[0m\u001b[0;34m[\u001b[0m\u001b[0;34m'acc'\u001b[0m\u001b[0;34m]\u001b[0m\u001b[0;34m\u001b[0m\u001b[0;34m\u001b[0m\u001b[0m\n\u001b[0m\u001b[1;32m      2\u001b[0m \u001b[0mval_acc\u001b[0m \u001b[0;34m=\u001b[0m \u001b[0mhistory\u001b[0m\u001b[0;34m.\u001b[0m\u001b[0mhistory\u001b[0m\u001b[0;34m[\u001b[0m\u001b[0;34m'val_acc'\u001b[0m\u001b[0;34m]\u001b[0m\u001b[0;34m\u001b[0m\u001b[0;34m\u001b[0m\u001b[0m\n\u001b[1;32m      3\u001b[0m \u001b[0mloss\u001b[0m \u001b[0;34m=\u001b[0m \u001b[0mhistory\u001b[0m\u001b[0;34m.\u001b[0m\u001b[0mhistory\u001b[0m\u001b[0;34m[\u001b[0m\u001b[0;34m'loss'\u001b[0m\u001b[0;34m]\u001b[0m\u001b[0;34m\u001b[0m\u001b[0;34m\u001b[0m\u001b[0m\n\u001b[1;32m      4\u001b[0m \u001b[0mval_loss\u001b[0m \u001b[0;34m=\u001b[0m \u001b[0mhistory\u001b[0m\u001b[0;34m.\u001b[0m\u001b[0mhistory\u001b[0m\u001b[0;34m[\u001b[0m\u001b[0;34m'val_loss'\u001b[0m\u001b[0;34m]\u001b[0m\u001b[0;34m\u001b[0m\u001b[0;34m\u001b[0m\u001b[0m\n\u001b[1;32m      5\u001b[0m \u001b[0;34m\u001b[0m\u001b[0m\n",
            "\u001b[0;31mNameError\u001b[0m: name 'history' is not defined"
          ]
        }
      ]
    },
    {
      "cell_type": "code",
      "metadata": {
        "id": "9sPYMfdS1Yhj",
        "colab_type": "code",
        "colab": {}
      },
      "source": [
        "!unzip test.zip"
      ],
      "execution_count": 0,
      "outputs": []
    },
    {
      "cell_type": "code",
      "metadata": {
        "id": "gRvoV5ow1cKC",
        "colab_type": "code",
        "colab": {}
      },
      "source": [
        "test = pd.read_csv('test.csv')"
      ],
      "execution_count": 0,
      "outputs": []
    },
    {
      "cell_type": "code",
      "metadata": {
        "id": "kRiAzVmF09tr",
        "colab_type": "code",
        "colab": {}
      },
      "source": [
        "test_image = []\n",
        "for i in tqdm(range(test.shape[0])):\n",
        "    img = image.load_img('test/'+test['id'][i], target_size=(256,256))\n",
        "    img = image.img_to_array(img)\n",
        "    img = img/255\n",
        "    test_image.append(img)\n",
        "test = np.array(test_image)"
      ],
      "execution_count": 0,
      "outputs": []
    },
    {
      "cell_type": "code",
      "metadata": {
        "id": "5VXam2731mWc",
        "colab_type": "code",
        "colab": {}
      },
      "source": [
        "i = 0\n",
        "text_labels = []\n",
        "plt.figure(figsize=(30,30))\n",
        "for batch in test_datagen.flow(x, batch_size=1):\n",
        "    pred = model.predict(batch)\n",
        "    if pred > 0.5:\n",
        "        text_labels.append('dog')\n",
        "    else:\n",
        "        text_labels.append('cat')\n",
        "    plt.subplot(5 / columns + 1, columns, i + 1)\n",
        "    plt.title('This is a ' + text_labels[i])\n",
        "    imgplot = plt.imshow(batch[0])\n",
        "    i += 1\n",
        "    if i % 10 == 0:\n",
        "        break\n",
        "plt.show()\n",
        "#prediction = model.predict_classes(test)"
      ],
      "execution_count": 0,
      "outputs": []
    },
    {
      "cell_type": "code",
      "metadata": {
        "id": "_r4DPetK1rZL",
        "colab_type": "code",
        "colab": {}
      },
      "source": [
        "#accuracy = sample['label'] = prediction"
      ],
      "execution_count": 0,
      "outputs": []
    }
  ]
}